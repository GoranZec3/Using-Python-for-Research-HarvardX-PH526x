{
 "cells": [
  {
   "cell_type": "markdown",
   "metadata": {},
   "source": [
    "# Using Python for Research Homework: Week 1\n",
    "\n",
    "In this homework, we will use objects, functions, and randomness to find the length of documents, approximate $\\pi$, and smooth out random noise."
   ]
  },
  {
   "cell_type": "markdown",
   "metadata": {},
   "source": [
    "### Exercise 1\n",
    "\n",
    "In this five-part exercise, we will count the frequency of each letter in a given string.\n",
    "\n",
    "#### Exercise 1a\n",
    "\n",
    "- Import the `string` library.\n",
    "- Create a variable `alphabet` that consists of the lowercase and uppercase letters in the English alphabet using the `ascii_letters` data attribute of the `string` library."
   ]
  },
  {
   "cell_type": "code",
   "execution_count": 1,
   "metadata": {},
   "outputs": [],
   "source": [
    "# write your code here!\n",
    "import string\n",
    "\n",
    "alphabet = string.ascii_letters"
   ]
  },
  {
   "cell_type": "markdown",
   "metadata": {},
   "source": [
    "#### Exercise 1b\n",
    "- The lower and upper case letters of the English alphabet should stored as the string variable `alphabet`.\n",
    "- Consider the sentence 'Jim quickly realized that the beautiful gowns are expensive'. Create a dictionary `count_letters` with keys consisting of each unique letter in the sentence and values consisting of the number of times each letter is used in this sentence. Count upper case and lower case letters separately in the dictionary."
   ]
  },
  {
   "cell_type": "code",
   "execution_count": 2,
   "metadata": {},
   "outputs": [
    {
     "data": {
      "text/plain": [
       "{'u': 3,\n",
       " 'f': 1,\n",
       " 'q': 1,\n",
       " 'v': 1,\n",
       " 'p': 1,\n",
       " 'k': 1,\n",
       " 'i': 5,\n",
       " 'w': 1,\n",
       " 'o': 1,\n",
       " 'J': 1,\n",
       " 'b': 1,\n",
       " 'z': 1,\n",
       " 'g': 1,\n",
       " 'c': 1,\n",
       " 'h': 2,\n",
       " 'd': 1,\n",
       " 'a': 4,\n",
       " 'm': 1,\n",
       " 'l': 3,\n",
       " 'r': 2,\n",
       " 'n': 2,\n",
       " 't': 4,\n",
       " 'x': 1,\n",
       " 'y': 1,\n",
       " 'e': 8,\n",
       " 's': 2}"
      ]
     },
     "execution_count": 2,
     "metadata": {},
     "output_type": "execute_result"
    }
   ],
   "source": [
    "sentence = 'Jim quickly realized that the beautiful gowns are expensive'\n",
    "\n",
    "count_letters = {}\n",
    "# write your code here!\n",
    "l = list(set(sentence))\n",
    "for i in range(len(l)):\n",
    "  if l[i] in alphabet:\n",
    "    count_letters[l[i]] = sentence.count(l[i])\n",
    "\n",
    "count_letters"
   ]
  },
  {
   "cell_type": "markdown",
   "metadata": {},
   "source": [
    "#### Exercise 1c\n",
    "- Rewrite your code from 1b to make a function called `counter` that takes a string `input_string` and returns a dictionary of letter counts `count_letters`.\n",
    "- Use your function to call `counter(sentence)`."
   ]
  },
  {
   "cell_type": "code",
   "execution_count": 3,
   "metadata": {},
   "outputs": [
    {
     "data": {
      "text/plain": [
       "{'a': 4,\n",
       " 'b': 1,\n",
       " 'c': 1,\n",
       " 'd': 1,\n",
       " 'e': 8,\n",
       " 'f': 1,\n",
       " 'g': 1,\n",
       " 'h': 2,\n",
       " 'i': 5,\n",
       " 'j': 0,\n",
       " 'k': 1,\n",
       " 'l': 3,\n",
       " 'm': 1,\n",
       " 'n': 2,\n",
       " 'o': 1,\n",
       " 'p': 1,\n",
       " 'q': 1,\n",
       " 'r': 2,\n",
       " 's': 2,\n",
       " 't': 4,\n",
       " 'u': 3,\n",
       " 'v': 1,\n",
       " 'w': 1,\n",
       " 'x': 1,\n",
       " 'y': 1,\n",
       " 'z': 1,\n",
       " 'A': 0,\n",
       " 'B': 0,\n",
       " 'C': 0,\n",
       " 'D': 0,\n",
       " 'E': 0,\n",
       " 'F': 0,\n",
       " 'G': 0,\n",
       " 'H': 0,\n",
       " 'I': 0,\n",
       " 'J': 1,\n",
       " 'K': 0,\n",
       " 'L': 0,\n",
       " 'M': 0,\n",
       " 'N': 0,\n",
       " 'O': 0,\n",
       " 'P': 0,\n",
       " 'Q': 0,\n",
       " 'R': 0,\n",
       " 'S': 0,\n",
       " 'T': 0,\n",
       " 'U': 0,\n",
       " 'V': 0,\n",
       " 'W': 0,\n",
       " 'X': 0,\n",
       " 'Y': 0,\n",
       " 'Z': 0}"
      ]
     },
     "execution_count": 3,
     "metadata": {},
     "output_type": "execute_result"
    }
   ],
   "source": [
    "def counter(input_string):\n",
    "    count_letters = {}\n",
    "    global alphabet\n",
    "\n",
    "    for letter in alphabet:\n",
    "        key = letter\n",
    "        value = input_string.count(letter)\n",
    "        count_letters.update({key : value})\n",
    "\n",
    "    return count_letters\n",
    "\n",
    "counter(sentence)"
   ]
  },
  {
   "cell_type": "markdown",
   "metadata": {},
   "source": [
    "#### Exercise 1d\n",
    "- Abraham Lincoln was a president during the American Civil War. His famous 1863 Gettysburg Address has been stored as `address`. Use the `counter` function from 1c to return a dictionary consisting of the count of each letter in this address and save it as `address_count`."
   ]
  },
  {
   "cell_type": "markdown",
   "metadata": {},
   "source": [
    "address = \"\"\"Four score and seven years ago our fathers brought forth on this continent, a new nation, \n",
    "conceived in Liberty, and dedicated to the proposition that all men are created equal. Now we are engaged in a \n",
    "great civil war, testing whether that nation, or any nation so conceived and so dedicated, can long endure. \n",
    "We are met on a great battle-field of that war. We have come to dedicate a portion of that field, as a final \n",
    "resting place for those who here gave their lives that that nation might live. It is altogether fitting and proper \n",
    "that we should do this. But, in a larger sense, we can not dedicate -- we can not consecrate -- we can not hallow -- \n",
    "this ground. The brave men, living and dead, who struggled here, have consecrated it, far above our poor power to add \n",
    "or detract. The world will little note, nor long remember what we say here, but it can never forget what they did here. \n",
    "It is for us the living, rather, to be dedicated here to the unfinished work which they who fought here have thus far so \n",
    "nobly advanced. It is rather for us to be here dedicated to the great task remaining before us -- that from these honored \n",
    "dead we take increased devotion to that cause for which they gave the last full measure of devotion -- that we here \n",
    "highly resolve that these dead shall not have died in vain -- that this nation, under God, shall have a new birth of \n",
    "freedom -- and that government of the people, by the people, for the people, shall not perish from the earth.\"\"\"   \n",
    "\n",
    "address_count = {}\n",
    "def counter(input_string):\n",
    "    global alphabet\n",
    "    global address_count\n",
    "    \n",
    "    for letter in alphabet:\n",
    "        key = letter\n",
    "        value = input_string.count(letter)\n",
    "        address_count.update({key:value})\n",
    "    return address_count\n",
    "\n",
    "counter(address)"
   ]
  },
  {
   "cell_type": "markdown",
   "metadata": {},
   "source": [
    "#### Exercise 1f\n",
    "- The frequency of each letter in the Gettysburg Address is already stored as `address_count`. Use this dictionary to find the most common letter in the Gettysburg address."
   ]
  },
  {
   "cell_type": "code",
   "execution_count": 4,
   "metadata": {},
   "outputs": [
    {
     "ename": "NameError",
     "evalue": "name 'address_count' is not defined",
     "output_type": "error",
     "traceback": [
      "\u001b[1;31m---------------------------------------------------------------------------\u001b[0m",
      "\u001b[1;31mNameError\u001b[0m                                 Traceback (most recent call last)",
      "Input \u001b[1;32mIn [4]\u001b[0m, in \u001b[0;36m<cell line: 1>\u001b[1;34m()\u001b[0m\n\u001b[1;32m----> 1\u001b[0m max_key \u001b[38;5;241m=\u001b[39m \u001b[38;5;28mmax\u001b[39m(\u001b[43maddress_count\u001b[49m, key \u001b[38;5;241m=\u001b[39m address_count\u001b[38;5;241m.\u001b[39mget)\n\u001b[0;32m      2\u001b[0m \u001b[38;5;28mprint\u001b[39m(max_key)\n",
      "\u001b[1;31mNameError\u001b[0m: name 'address_count' is not defined"
     ]
    }
   ],
   "source": [
    "max_key = max(address_count, key = address_count.get)\n",
    "print(max_key)\n",
    "\n",
    "\n",
    "    \n"
   ]
  },
  {
   "cell_type": "markdown",
   "metadata": {},
   "source": [
    "### Exercise 2\n",
    "\n",
    "Consider a circle inscribed in a square. The ratio of their areas (the ratio of the area of the circle to the area of the square) is $\\frac{\\pi}{4}$. In this six-part exercise, we will find a way to approximate this value.\n",
    "\n",
    "#### Exercise 2a\n",
    "- Using the `math` library, calculate and print the value of $\\frac{\\pi}{4}$"
   ]
  },
  {
   "cell_type": "code",
   "execution_count": null,
   "metadata": {},
   "outputs": [],
   "source": [
    "# write your code here\n",
    "import math \n",
    "print(math.pi/4)"
   ]
  },
  {
   "cell_type": "markdown",
   "metadata": {},
   "source": [
    "#### Exercise 2b\n",
    "- Using `random.uniform()`, create a function `rand()` that generates a single float between $-1$ and $1$.\n",
    "- Call `rand()` once. For us to be able to check your solution, we will use `random.seed()` to fix the seed value of the random number generator."
   ]
  },
  {
   "cell_type": "code",
   "execution_count": 7,
   "metadata": {},
   "outputs": [
    {
     "data": {
      "text/plain": [
       "-0.7312715117751976"
      ]
     },
     "execution_count": 7,
     "metadata": {},
     "output_type": "execute_result"
    }
   ],
   "source": [
    "import random\n",
    "\n",
    "random.seed(1) # Fixes the see of the random number generator.\n",
    "\n",
    "def rand():\n",
    "    return random.uniform(-1, 1)\n",
    "\n",
    "rand()"
   ]
  },
  {
   "cell_type": "markdown",
   "metadata": {},
   "source": [
    "#### Exercise 2c\n",
    "- The distance between two points x and y is the square root of the sum of squared differences along each dimension of x and y. Write a function` distance(x, y)` that takes two vectors as its input and outputs the distance between them. Use your function to find the distance between $x=(0,0)$ and $y=(1,1)$."
   ]
  },
  {
   "cell_type": "code",
   "execution_count": null,
   "metadata": {},
   "outputs": [],
   "source": [
    "import math\n",
    "x = (0,0)\n",
    "y = (1,1)\n",
    "def distance(x, y):\n",
    "    return math.sqrt((x[0]-y[0])**2 + (x[1]-y[1])**2)\n",
    "    \n",
    "distance(x, y) "
   ]
  },
  {
   "cell_type": "markdown",
   "metadata": {},
   "source": [
    "#### Exercise 2d\n",
    "\n",
    "- Write a function `in_circle(x, origin)` that determines whether a point in a two dimensional plane falls within a unit circle surrounding a given origin.\n",
    "    - Your function should return a boolean `True` if the distance between `x` and `origin` is less than 1 and `False` otherwise.\n",
    "    - Use `distance(x, y)` as defined in 2c.\n",
    "- Use your function to determine whether the point (1,1) lies within the unit circle centered at (0,0)."
   ]
  },
  {
   "cell_type": "code",
   "execution_count": null,
   "metadata": {},
   "outputs": [],
   "source": [
    "x = (0,0)\n",
    "y = (1,1)\n",
    "def in_circle(x, origin = [0,0]):\n",
    "    if distance(x, origin) < 1:\n",
    "        return True\n",
    "    else:\n",
    "        return False\n",
    "   \n",
    "in_circle(x,y)"
   ]
  },
  {
   "cell_type": "markdown",
   "metadata": {},
   "source": [
    "#### Exercise 2e\n",
    "\n",
    "- Create a list `inside` of `R=10000` booleans that determines whether or not a point falls within the unit circle centered at `(0,0)`. \n",
    "    - Use the `rand` function from 2b to generate `R` randomly located points.\n",
    "    - Use the function `in_circle` to test whether or not a given pint falls within the unit circle.\n",
    "- Find the proportion of points that fall within the circle by summing all `True` values in the `inside` list; then divide the answer by `R` to obtain a proportion.\n",
    "- Print your answer. This proportion is an estimate of the ratio of the two areas!"
   ]
  },
  {
   "cell_type": "code",
   "execution_count": null,
   "metadata": {},
   "outputs": [],
   "source": [
    "\n",
    "random.seed(1) \n",
    "R = 10000\n",
    "x = []\n",
    "inside = []\n",
    "for i in range(R):\n",
    "    point = [rand(), rand()]\n",
    "    x.append(point)\n",
    "    # Enter your code here! #\n",
    "    #print(x)\n",
    "    inside.append(in_circle(x[i], origin = [0]*2))\n",
    "\n",
    "print(sum(inside)/R)\n",
    "\n",
    "# write your code here!\n"
   ]
  },
  {
   "cell_type": "markdown",
   "metadata": {},
   "source": [
    "#### Exercise 2f\n",
    "\n",
    "- Find the difference between your estimate from part 2e and `math.pi / 4`. Note: `inside` and `R` are defined as in Exercise 2e."
   ]
  },
  {
   "cell_type": "code",
   "execution_count": null,
   "metadata": {},
   "outputs": [],
   "source": [
    "(math.pi/4) - (sum(inside)/R) \n"
   ]
  },
  {
   "cell_type": "markdown",
   "metadata": {},
   "source": [
    "### Exercise 3\n",
    "\n",
    "A list of numbers representing measurements obtained from a system of interest can often be noisy. One way to deal with noise to smoothen the values by replacing each value with the average of the value and the values of its neighbors.\n",
    "\n",
    "#### Exercise 3a\n",
    "\n",
    "- Write a function `moving_window_average(x, n_neighbors)` that takes a list `x` and the number of neighbors `n_neighbors` on either side of a given member of the list to consider.\n",
    "- For each value in `x`, `moving_window_average(x, n_neighbors)` computes the average of the value and the values of its neighbors.\n",
    "- `moving_window_average` should return a list of averaged values that is the same length as the original list.\n",
    "- If there are not enough neighbors (for cases near the edge), substitute the original value for a neighbor for each missing neighbor.\n",
    "- Use your function to find the moving window sum of `x=[0,10,5,3,1,5]` and `n_neighbors=1`."
   ]
  },
  {
   "cell_type": "code",
   "execution_count": 9,
   "metadata": {},
   "outputs": [
    {
     "name": "stdout",
     "output_type": "stream",
     "text": [
      "[2.1818181818181817, 2.6363636363636362, 3.090909090909091, 3.5454545454545454, 4.0, 4.454545454545454]\n",
      "19.90909090909091\n"
     ]
    }
   ],
   "source": [
    "def moving_window_average(x, n_neighbors=1):\n",
    "    n = len(x)\n",
    "    width = n_neighbors*2 + 1\n",
    "    x = [x[0]]*n_neighbors + x + [x[-1]]*n_neighbors\n",
    "    # To complete the function,\n",
    "    # return a list of the mean of values from i to i+width for all values i from 0 to n-1.\n",
    "    mean_values = []\n",
    "    for i in range(n):\n",
    "        temp = x[i:i+width]\n",
    "        sumOf = 0\n",
    "        for elem in temp:\n",
    "            sumOf += elem\n",
    "        mean_values.append(sumOf / width)\n",
    "    return mean_values\n",
    "        \n",
    "x = [0,10,5,3,1,5]\n",
    "print(moving_window_average(x, 5))\n",
    "print(sum(moving_window_average(x, 5)))"
   ]
  },
  {
   "cell_type": "markdown",
   "metadata": {},
   "source": [
    "#### Exercise 3b\n",
    "- Compute and store `R=1000` random values from 0-1 as `x`.\n",
    "- Compute the moving window average for `x` for values of `n_neighbors` ranging from 1 to 9 inclusive.\n",
    "- Store `x` as well as each of these averages as consecutive lists in a list called `Y`"
   ]
  },
  {
   "cell_type": "code",
   "execution_count": 11,
   "metadata": {},
   "outputs": [
    {
     "name": "stdout",
     "output_type": "stream",
     "text": [
      "0.45325045824763405\n"
     ]
    }
   ],
   "source": [
    "random.seed(1) \n",
    "\n",
    "R = 1000\n",
    "Y = []\n",
    "x = [random.uniform(0, 1) for num in range(R)]\n",
    "for n_neighbors in range(10):\n",
    "    Y.append(moving_window_average(x, n_neighbors))\n",
    "\n",
    "print(Y[5][9])"
   ]
  },
  {
   "cell_type": "markdown",
   "metadata": {},
   "source": [
    "#### Exercise 3c\n",
    "\n",
    "- For each list in `Y`, calculate and store the range (the maximum minus the minimum) in a new list ranges.\n",
    "- Print your answer. As the window width increases, does the range of each list increase or decrease? Why do you think that is?"
   ]
  },
  {
   "cell_type": "code",
   "execution_count": 12,
   "metadata": {},
   "outputs": [
    {
     "name": "stdout",
     "output_type": "stream",
     "text": [
      "[0.9973152343362711, 0.9128390185520854, 0.801645771909397, 0.7137391224212468, 0.6230146948375028, 0.5042284086774562, 0.5071013753101629, 0.4590090496908159, 0.44659549539083265, 0.4433696944090051]\n"
     ]
    }
   ],
   "source": [
    "new_list = []\n",
    "for i in Y:\n",
    "    new_list.append(max(i)-min(i))\n",
    "print(new_list)\n"
   ]
  },
  {
   "cell_type": "code",
   "execution_count": null,
   "metadata": {},
   "outputs": [],
   "source": []
  }
 ],
 "metadata": {
  "kernelspec": {
   "display_name": "Python 3 (ipykernel)",
   "language": "python",
   "name": "python3"
  },
  "language_info": {
   "codemirror_mode": {
    "name": "ipython",
    "version": 3
   },
   "file_extension": ".py",
   "mimetype": "text/x-python",
   "name": "python",
   "nbconvert_exporter": "python",
   "pygments_lexer": "ipython3",
   "version": "3.9.12"
  }
 },
 "nbformat": 4,
 "nbformat_minor": 4
}
