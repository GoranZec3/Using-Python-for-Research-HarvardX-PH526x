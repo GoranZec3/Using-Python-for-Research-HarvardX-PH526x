{
 "cells": [
  {
   "cell_type": "markdown",
   "metadata": {},
   "source": [
    "# Using Python for Research Homework: Week 4, Case Study 2\n",
    "\n",
    "In this case study, we will continue taking a look at patterns of flight for each of the three birds in our dataset."
   ]
  },
  {
   "cell_type": "code",
   "execution_count": 1,
   "metadata": {},
   "outputs": [
    {
     "data": {
      "text/html": [
       "<div>\n",
       "<style scoped>\n",
       "    .dataframe tbody tr th:only-of-type {\n",
       "        vertical-align: middle;\n",
       "    }\n",
       "\n",
       "    .dataframe tbody tr th {\n",
       "        vertical-align: top;\n",
       "    }\n",
       "\n",
       "    .dataframe thead th {\n",
       "        text-align: right;\n",
       "    }\n",
       "</style>\n",
       "<table border=\"1\" class=\"dataframe\">\n",
       "  <thead>\n",
       "    <tr style=\"text-align: right;\">\n",
       "      <th></th>\n",
       "      <th>altitude</th>\n",
       "      <th>date_time</th>\n",
       "      <th>device_info_serial</th>\n",
       "      <th>direction</th>\n",
       "      <th>latitude</th>\n",
       "      <th>longitude</th>\n",
       "      <th>speed_2d</th>\n",
       "      <th>bird_name</th>\n",
       "    </tr>\n",
       "  </thead>\n",
       "  <tbody>\n",
       "    <tr>\n",
       "      <th>0</th>\n",
       "      <td>71</td>\n",
       "      <td>2013-08-15 00:18:08+00</td>\n",
       "      <td>851</td>\n",
       "      <td>-150.469753</td>\n",
       "      <td>49.419860</td>\n",
       "      <td>2.120733</td>\n",
       "      <td>0.150000</td>\n",
       "      <td>Eric</td>\n",
       "    </tr>\n",
       "    <tr>\n",
       "      <th>1</th>\n",
       "      <td>68</td>\n",
       "      <td>2013-08-15 00:48:07+00</td>\n",
       "      <td>851</td>\n",
       "      <td>-136.151141</td>\n",
       "      <td>49.419880</td>\n",
       "      <td>2.120746</td>\n",
       "      <td>2.438360</td>\n",
       "      <td>Eric</td>\n",
       "    </tr>\n",
       "    <tr>\n",
       "      <th>2</th>\n",
       "      <td>68</td>\n",
       "      <td>2013-08-15 01:17:58+00</td>\n",
       "      <td>851</td>\n",
       "      <td>160.797477</td>\n",
       "      <td>49.420310</td>\n",
       "      <td>2.120885</td>\n",
       "      <td>0.596657</td>\n",
       "      <td>Eric</td>\n",
       "    </tr>\n",
       "    <tr>\n",
       "      <th>3</th>\n",
       "      <td>73</td>\n",
       "      <td>2013-08-15 01:47:51+00</td>\n",
       "      <td>851</td>\n",
       "      <td>32.769360</td>\n",
       "      <td>49.420359</td>\n",
       "      <td>2.120859</td>\n",
       "      <td>0.310161</td>\n",
       "      <td>Eric</td>\n",
       "    </tr>\n",
       "    <tr>\n",
       "      <th>4</th>\n",
       "      <td>69</td>\n",
       "      <td>2013-08-15 02:17:42+00</td>\n",
       "      <td>851</td>\n",
       "      <td>45.191230</td>\n",
       "      <td>49.420331</td>\n",
       "      <td>2.120887</td>\n",
       "      <td>0.193132</td>\n",
       "      <td>Eric</td>\n",
       "    </tr>\n",
       "  </tbody>\n",
       "</table>\n",
       "</div>"
      ],
      "text/plain": [
       "   altitude               date_time  device_info_serial   direction  \\\n",
       "0        71  2013-08-15 00:18:08+00                 851 -150.469753   \n",
       "1        68  2013-08-15 00:48:07+00                 851 -136.151141   \n",
       "2        68  2013-08-15 01:17:58+00                 851  160.797477   \n",
       "3        73  2013-08-15 01:47:51+00                 851   32.769360   \n",
       "4        69  2013-08-15 02:17:42+00                 851   45.191230   \n",
       "\n",
       "    latitude  longitude  speed_2d bird_name  \n",
       "0  49.419860   2.120733  0.150000      Eric  \n",
       "1  49.419880   2.120746  2.438360      Eric  \n",
       "2  49.420310   2.120885  0.596657      Eric  \n",
       "3  49.420359   2.120859  0.310161      Eric  \n",
       "4  49.420331   2.120887  0.193132      Eric  "
      ]
     },
     "execution_count": 1,
     "metadata": {},
     "output_type": "execute_result"
    }
   ],
   "source": [
    "# DO NOT EDIT THIS CODE\n",
    "import pandas as pd\n",
    "import numpy as np\n",
    "birddata = pd.read_csv(\"https://courses.edx.org/asset-v1:HarvardX+PH526x+2T2019+type@asset+block@bird_tracking.csv\", index_col=0)\n",
    "birddata.head()"
   ]
  },
  {
   "cell_type": "markdown",
   "metadata": {},
   "source": [
    "### Exercise 1\n",
    "\n",
    "In this case study, we will continue taking a look at patterns of flight for each of the three birds in our dataset. We will group the flight patterns by bird and date, and plot the mean altitude for these groupings.\n",
    "\n",
    "`pandas` makes it easy to perform basic operations on groups within a dataframe without needing to loop through each value in the dataframe. In this exercise, we will group the dataframe by `birdname` and then find the average `speed_2d` for each bird.\n",
    "\n",
    "#### Instructions \n",
    "- Fill in the code to find the mean altitudes of each bird using the pre-loaded `birddata` dataframe. "
   ]
  },
  {
   "cell_type": "code",
   "execution_count": 2,
   "metadata": {},
   "outputs": [
    {
     "data": {
      "text/plain": [
       "bird_name\n",
       "Eric     2.300545\n",
       "Nico     2.908726\n",
       "Sanne    2.450434\n",
       "Name: speed_2d, dtype: float64"
      ]
     },
     "execution_count": 2,
     "metadata": {},
     "output_type": "execute_result"
    }
   ],
   "source": [
    "# First, use `groupby()` to group the data by \"bird_name\".\n",
    "grouped_birds = birddata.groupby('bird_name')\n",
    "\n",
    "# Now calculate the mean of `speed_2d` using the `mean()` function.\n",
    "mean_speeds = grouped_birds.speed_2d.mean()\n",
    "\n",
    "# Find the mean `altitude` for each bird.\n",
    "mean_altitudes = mean_altitudes = grouped_birds.altitude.mean()\n",
    "\n",
    "mean_speeds"
   ]
  },
  {
   "cell_type": "markdown",
   "metadata": {},
   "source": [
    "### Exercise 2\n",
    "\n",
    "In this exercise, we will group the flight times by date and calculate the mean altitude within that day.\n",
    "\n",
    "#### Instructions \n",
    "- Convert `birddata.date_time` to the `pd.datetime` format, and store as `birddata[\"date\"]`.\n",
    "- Fill in the code to find the mean altitudes for each day."
   ]
  },
  {
   "cell_type": "code",
   "execution_count": 16,
   "metadata": {},
   "outputs": [
    {
     "data": {
      "text/plain": [
       "date\n",
       "2013-08-15    134.092000\n",
       "2013-08-16    134.839506\n",
       "2013-08-17    147.439024\n",
       "2013-08-18    129.608163\n",
       "2013-08-19    180.174797\n",
       "2013-08-20    184.461224\n",
       "2013-08-21    171.546185\n",
       "2013-08-22    114.172691\n",
       "2013-08-23    144.716049\n",
       "2013-08-24    101.446721\n",
       "2013-08-25     93.162602\n",
       "2013-08-26     75.995951\n",
       "2013-08-27     84.591093\n",
       "2013-08-28    111.210526\n",
       "2013-08-29    177.421488\n",
       "2013-08-30     92.520161\n",
       "2013-08-31    160.975904\n",
       "2013-09-01     84.753086\n",
       "2013-09-02     88.128514\n",
       "2013-09-03     93.975709\n",
       "2013-09-04     90.717213\n",
       "2013-09-05     87.264000\n",
       "2013-09-06     89.020492\n",
       "2013-09-07    103.412955\n",
       "2013-09-08     76.566265\n",
       "2013-09-09     81.483471\n",
       "2013-09-10     90.618852\n",
       "2013-09-11     77.222672\n",
       "2013-09-12     75.646091\n",
       "2013-09-13     66.615079\n",
       "2013-09-14     73.008097\n",
       "2013-09-15    126.720648\n",
       "2013-09-16    123.365462\n",
       "2013-09-17    116.381526\n",
       "2013-09-18    115.512097\n",
       "2013-09-19    113.068548\n",
       "2013-09-20    132.971774\n",
       "2013-09-21    134.870968\n",
       "2013-09-22    109.522267\n",
       "2013-09-23    121.992063\n",
       "2013-09-24    134.864542\n",
       "2013-09-25    139.008130\n",
       "2013-09-26    132.088353\n",
       "2013-09-27    128.463415\n",
       "2013-09-28    125.886179\n",
       "2013-09-29    155.244898\n",
       "2013-09-30    123.714286\n",
       "2013-10-01    123.344000\n",
       "2013-10-02    149.638554\n",
       "2013-10-03    126.068000\n",
       "Name: altitude, dtype: float64"
      ]
     },
     "execution_count": 16,
     "metadata": {},
     "output_type": "execute_result"
    }
   ],
   "source": [
    "# Convert birddata.date_time to the `pd.datetime` format.\n",
    "birddata.date_time = pd.to_datetime(birddata.date_time)\n",
    "\n",
    "# Create a new column of day of observation\n",
    "birddata[\"date\"] = birddata.date_time.dt.date\n",
    "\n",
    "# Use `groupby()` to group the data by date.\n",
    "grouped_bydates = birddata.groupby('date')\n",
    "\n",
    "# Find the mean `altitude` for each date.\n",
    "mean_altitudes_perday = grouped_bydates.altitude.mean()\n",
    "\n",
    "mean_altitudes_perday.head(50)"
   ]
  },
  {
   "cell_type": "markdown",
   "metadata": {},
   "source": [
    "### Exercise 3\n",
    "\n",
    "In this exercise, we will group the flight times by both bird and date, and calculate the mean altitude for each.\n",
    "\n",
    "#### Instructions \n",
    "- `birddata` already contains the `date` column. To find the average speed for each bird and day, create a new grouped dataframe called `grouped_birdday` that groups the data by both `bird_name` and date."
   ]
  },
  {
   "cell_type": "code",
   "execution_count": 7,
   "metadata": {},
   "outputs": [
    {
     "data": {
      "text/plain": [
       "bird_name  date      \n",
       "Eric       2013-08-15     74.988095\n",
       "           2013-08-16    127.773810\n",
       "           2013-08-17    125.890244\n",
       "           2013-08-18    121.353659\n",
       "           2013-08-19    134.928571\n",
       "Name: altitude, dtype: float64"
      ]
     },
     "execution_count": 7,
     "metadata": {},
     "output_type": "execute_result"
    }
   ],
   "source": [
    "# Use `groupby()` to group the data by bird and date.\n",
    "grouped_birdday = birddata.groupby(['bird_name', 'date'])\n",
    "\n",
    "# Find the mean `altitude` for each bird and date.\n",
    "mean_altitudes_perday = grouped_birdday.altitude.mean()\n",
    "\n",
    "mean_altitudes_perday.head()"
   ]
  },
  {
   "cell_type": "markdown",
   "metadata": {},
   "source": [
    "### Exercise 4\n",
    "\n",
    "Great! Now find the average speed for each bird and day.\n",
    "\n",
    "#### Instructions \n",
    "\n",
    "- Store these are three `pandas` `Series` objects, one for each bird.\n",
    "- Use the plotting code provided to plot the average speeds for each bird."
   ]
  },
  {
   "cell_type": "code",
   "execution_count": 21,
   "metadata": {},
   "outputs": [
    {
     "data": {
      "text/plain": [
       "date\n",
       "2014-04-01     3.163723\n",
       "2014-04-02     2.861222\n",
       "2014-04-03     3.212099\n",
       "2014-04-04     2.832465\n",
       "2014-04-05     3.283842\n",
       "2014-04-06     2.824700\n",
       "2014-04-07     3.455989\n",
       "2014-04-08     2.995421\n",
       "2014-04-09     3.780186\n",
       "2014-04-10     3.703409\n",
       "2014-04-11     2.829536\n",
       "2014-04-12     3.341111\n",
       "2014-04-13     3.878121\n",
       "2014-04-14     3.882314\n",
       "2014-04-15     4.437659\n",
       "2014-04-16     3.366451\n",
       "2014-04-17     3.713230\n",
       "2014-04-18     3.798646\n",
       "2014-04-19     5.061530\n",
       "2014-04-20    10.196981\n",
       "2014-04-21     7.861385\n",
       "2014-04-22     9.445087\n",
       "2014-04-23     6.384096\n",
       "2014-04-24     2.674536\n",
       "2014-04-25     2.705160\n",
       "2014-04-26     2.192028\n",
       "2014-04-27     2.582072\n",
       "2014-04-28     3.055051\n",
       "2014-04-29     2.793232\n",
       "2014-04-30     3.297032\n",
       "Name: speed_2d, dtype: float64"
      ]
     },
     "execution_count": 21,
     "metadata": {},
     "output_type": "execute_result"
    }
   ],
   "source": [
    "import matplotlib.pyplot as plt\n",
    "\n",
    "eric_daily_speed  = grouped_birdday.speed_2d.mean()['Eric']\n",
    "sanne_daily_speed = grouped_birdday.speed_2d.mean()['Sanne']\n",
    "nico_daily_speed  = grouped_birdday.speed_2d.mean()['Nico']\n",
    "nico_daily_speed.tail(30)\n",
    "#eric_daily_speed.plot(label=\"Eric\")\n",
    "#sanne_daily_speed.plot(label=\"Sanne\")\n",
    "#nico_daily_speed.plot(label=\"Nico\")\n",
    "#plt.legend(loc=\"upper left\")\n",
    "#plt.show()"
   ]
  },
  {
   "cell_type": "code",
   "execution_count": null,
   "metadata": {},
   "outputs": [],
   "source": []
  }
 ],
 "metadata": {
  "kernelspec": {
   "display_name": "Python 3 (ipykernel)",
   "language": "python",
   "name": "python3"
  },
  "language_info": {
   "codemirror_mode": {
    "name": "ipython",
    "version": 3
   },
   "file_extension": ".py",
   "mimetype": "text/x-python",
   "name": "python",
   "nbconvert_exporter": "python",
   "pygments_lexer": "ipython3",
   "version": "3.9.12"
  }
 },
 "nbformat": 4,
 "nbformat_minor": 2
}
